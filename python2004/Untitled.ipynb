{
 "cells": [
  {
   "cell_type": "code",
   "execution_count": null,
   "id": "23376f94-9777-495a-b777-e61888e16597",
   "metadata": {},
   "outputs": [],
   "source": []
  }
 ],
 "metadata": {
  "kernelspec": {
   "display_name": "",
   "name": ""
  },
  "language_info": {
   "name": ""
  }
 },
 "nbformat": 4,
 "nbformat_minor": 5
}
